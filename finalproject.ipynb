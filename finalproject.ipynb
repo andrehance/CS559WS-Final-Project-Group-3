{
 "cells": [
  {
   "cell_type": "code",
   "execution_count": null,
   "id": "initial_id",
   "metadata": {
    "collapsed": true
   },
   "outputs": [],
   "source": []
  },
  {
   "cell_type": "markdown",
   "source": [
    "### CS 559 WS Group 3 "
   ],
   "metadata": {
    "collapsed": false
   },
   "id": "6da8be3e39c1de40"
  },
  {
   "cell_type": "markdown",
   "source": [
    "Citations: Chatgpt4 for assistance and debugging"
   ],
   "metadata": {
    "collapsed": false
   },
   "id": "a054e2bf429255fe"
  },
  {
   "cell_type": "markdown",
   "source": [
    "#### Training Data and Preperation"
   ],
   "metadata": {
    "collapsed": false
   },
   "id": "6e8218bb6ed71273"
  }
 ],
 "metadata": {
  "kernelspec": {
   "display_name": "Python 3",
   "language": "python",
   "name": "python3"
  },
  "language_info": {
   "codemirror_mode": {
    "name": "ipython",
    "version": 2
   },
   "file_extension": ".py",
   "mimetype": "text/x-python",
   "name": "python",
   "nbconvert_exporter": "python",
   "pygments_lexer": "ipython2",
   "version": "2.7.6"
  }
 },
 "nbformat": 4,
 "nbformat_minor": 5
}
